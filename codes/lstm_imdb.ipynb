{
 "cells": [
  {
   "cell_type": "code",
   "execution_count": null,
   "id": "known-front",
   "metadata": {},
   "outputs": [],
   "source": [
    "filenum = 29\n",
    "expid = 1\n",
    "import os\n",
    "import numpy as np\n",
    "import time\n",
    "sleeptime = np.random.rand(1)*10\n",
    "time.sleep(int(sleeptime*100)/100)\n",
    "filehead = 'lstm_leaky_result_train_losses_imdb'+str(filenum).zfill(3)+'_'\n",
    "jlist = [int(j.split(filehead)[1].split('.')[0]) for j in os.listdir('.') if j.startswith(filehead) and j.endswith('.log')]\n",
    "if len(jlist)==0:\n",
    "    expid = 1\n",
    "else:\n",
    "    expid = np.max(jlist)+1\n",
    "import torch\n",
    "torch.save(0,filehead + str(expid).zfill(3) + '.log')\n",
    "# 'lstm_leaky_result_train_losses_imdb'+str(filenum).zfill(3)+'_'+str(expid).zfill(3)+'.pt'"
   ]
  },
  {
   "cell_type": "code",
   "execution_count": 2,
   "id": "occasional-stephen",
   "metadata": {},
   "outputs": [
    {
     "data": {
      "text/plain": [
       "1"
      ]
     },
     "execution_count": 2,
     "metadata": {},
     "output_type": "execute_result"
    }
   ],
   "source": [
    "expid"
   ]
  },
  {
   "cell_type": "code",
   "execution_count": 3,
   "id": "accepting-melissa",
   "metadata": {},
   "outputs": [],
   "source": [
    "import numpy as np # linear algebra\n",
    "import pandas as pd # data processing, CSV file I/O (e.g. pd.read_csv)\n",
    "import torch\n",
    "import torch.nn as nn\n",
    "import torch.nn.functional as F\n",
    "from nltk.corpus import stopwords \n",
    "from collections import Counter\n",
    "import string\n",
    "import re\n",
    "import seaborn as sns\n",
    "from tqdm import tqdm\n",
    "import matplotlib.pyplot as plt\n",
    "from torch.utils.data import TensorDataset, DataLoader\n",
    "from sklearn.model_selection import train_test_split"
   ]
  },
  {
   "cell_type": "code",
   "execution_count": 4,
   "id": "hungry-establishment",
   "metadata": {},
   "outputs": [
    {
     "name": "stdout",
     "output_type": "stream",
     "text": [
      "GPU is available\n"
     ]
    }
   ],
   "source": [
    "is_cuda = torch.cuda.is_available()\n",
    "\n",
    "# If we have a GPU available, we'll set our device to GPU. We'll use this device variable later in our code.\n",
    "if is_cuda:\n",
    "    device = torch.device(\"cuda\")\n",
    "    torch.cuda.manual_seed_all(expid)\n",
    "    torch.manual_seed(expid)\n",
    "    print(\"GPU is available\")\n",
    "else:\n",
    "    device = torch.device(\"cpu\")\n",
    "    torch.manual_seed(expid)\n",
    "    print(\"GPU not available, CPU used\")"
   ]
  },
  {
   "cell_type": "code",
   "execution_count": 5,
   "id": "guided-diploma",
   "metadata": {},
   "outputs": [
    {
     "data": {
      "text/html": [
       "<div>\n",
       "<style scoped>\n",
       "    .dataframe tbody tr th:only-of-type {\n",
       "        vertical-align: middle;\n",
       "    }\n",
       "\n",
       "    .dataframe tbody tr th {\n",
       "        vertical-align: top;\n",
       "    }\n",
       "\n",
       "    .dataframe thead th {\n",
       "        text-align: right;\n",
       "    }\n",
       "</style>\n",
       "<table border=\"1\" class=\"dataframe\">\n",
       "  <thead>\n",
       "    <tr style=\"text-align: right;\">\n",
       "      <th></th>\n",
       "      <th>review</th>\n",
       "      <th>sentiment</th>\n",
       "    </tr>\n",
       "  </thead>\n",
       "  <tbody>\n",
       "    <tr>\n",
       "      <th>0</th>\n",
       "      <td>One of the other reviewers has mentioned that ...</td>\n",
       "      <td>positive</td>\n",
       "    </tr>\n",
       "    <tr>\n",
       "      <th>1</th>\n",
       "      <td>A wonderful little production. &lt;br /&gt;&lt;br /&gt;The...</td>\n",
       "      <td>positive</td>\n",
       "    </tr>\n",
       "    <tr>\n",
       "      <th>2</th>\n",
       "      <td>I thought this was a wonderful way to spend ti...</td>\n",
       "      <td>positive</td>\n",
       "    </tr>\n",
       "    <tr>\n",
       "      <th>3</th>\n",
       "      <td>Basically there's a family where a little boy ...</td>\n",
       "      <td>negative</td>\n",
       "    </tr>\n",
       "    <tr>\n",
       "      <th>4</th>\n",
       "      <td>Petter Mattei's \"Love in the Time of Money\" is...</td>\n",
       "      <td>positive</td>\n",
       "    </tr>\n",
       "  </tbody>\n",
       "</table>\n",
       "</div>"
      ],
      "text/plain": [
       "                                              review sentiment\n",
       "0  One of the other reviewers has mentioned that ...  positive\n",
       "1  A wonderful little production. <br /><br />The...  positive\n",
       "2  I thought this was a wonderful way to spend ti...  positive\n",
       "3  Basically there's a family where a little boy ...  negative\n",
       "4  Petter Mattei's \"Love in the Time of Money\" is...  positive"
      ]
     },
     "execution_count": 5,
     "metadata": {},
     "output_type": "execute_result"
    }
   ],
   "source": [
    "base_csv = 'data/IMDB Dataset.csv'\n",
    "df = pd.read_csv(base_csv)\n",
    "df.head()"
   ]
  },
  {
   "cell_type": "code",
   "execution_count": 6,
   "id": "instrumental-hammer",
   "metadata": {},
   "outputs": [
    {
     "name": "stdout",
     "output_type": "stream",
     "text": [
      "shape of train data is (5000,)\n",
      "shape of test data is (5000,)\n"
     ]
    }
   ],
   "source": [
    "X,y = df['review'].values,df['sentiment'].values\n",
    "x_train,x_test,y_train,y_test = train_test_split(X,y,stratify=y, train_size = 0.1, test_size = 0.1)\n",
    "print(f'shape of train data is {x_train.shape}')\n",
    "print(f'shape of test data is {x_test.shape}')"
   ]
  },
  {
   "cell_type": "code",
   "execution_count": 7,
   "id": "suburban-magazine",
   "metadata": {},
   "outputs": [
    {
     "data": {
      "image/png": "[encoded data removed]",
      "text/plain": [
       "<Figure size 640x480 with 1 Axes>"
      ]
     },
     "metadata": {},
     "output_type": "display_data"
    }
   ],
   "source": [
    "dd = pd.Series(y_train).value_counts()\n",
    "sns.barplot(x=np.array(['negative','positive']),y=dd.values)\n",
    "plt.show()"
   ]
  },
  {
   "cell_type": "code",
   "execution_count": 8,
   "id": "turned-hurricane",
   "metadata": {},
   "outputs": [],
   "source": [
    "def preprocess_string(s):\n",
    "    # Remove all non-word characters (everything except numbers and letters)\n",
    "    s = re.sub(r\"[^\\w\\s]\", '', s)\n",
    "    # Replace all runs of whitespaces with no space\n",
    "    s = re.sub(r\"\\s+\", '', s)\n",
    "    # replace digits with no space\n",
    "    s = re.sub(r\"\\d\", '', s)\n",
    "\n",
    "    return s\n",
    "\n",
    "def tockenize(x_train,y_train,x_val,y_val):\n",
    "    word_list = []\n",
    "\n",
    "    stop_words = set(stopwords.words('english')) \n",
    "    for sent in x_train:\n",
    "        for word in sent.lower().split():\n",
    "            word = preprocess_string(word)\n",
    "            if word not in stop_words and word != '':\n",
    "                word_list.append(word)\n",
    "  \n",
    "    corpus = Counter(word_list)\n",
    "    # sorting on the basis of most common words\n",
    "    corpus_ = sorted(corpus,key=corpus.get,reverse=True)[:1000]\n",
    "    # creating a dict\n",
    "    onehot_dict = {w:i+1 for i,w in enumerate(corpus_)}\n",
    "    \n",
    "    # tockenize\n",
    "    final_list_train,final_list_test = [],[]\n",
    "    for sent in x_train:\n",
    "            final_list_train.append([onehot_dict[preprocess_string(word)] for word in sent.lower().split() \n",
    "                                     if preprocess_string(word) in onehot_dict.keys()])\n",
    "    for sent in x_val:\n",
    "            final_list_test.append([onehot_dict[preprocess_string(word)] for word in sent.lower().split() \n",
    "                                    if preprocess_string(word) in onehot_dict.keys()])\n",
    "            \n",
    "    encoded_train = [1 if label =='positive' else 0 for label in y_train]  \n",
    "    encoded_test = [1 if label =='positive' else 0 for label in y_val] \n",
    "    return np.array(final_list_train), np.array(encoded_train),np.array(final_list_test), np.array(encoded_test),onehot_dict\n"
   ]
  },
  {
   "cell_type": "code",
   "execution_count": null,
   "id": "dietary-commonwealth",
   "metadata": {},
   "outputs": [],
   "source": [
    "x_train,y_train,x_test,y_test,vocab = tockenize(x_train,y_train,x_test,y_test)"
   ]
  },
  {
   "cell_type": "code",
   "execution_count": 10,
   "id": "broad-flexibility",
   "metadata": {},
   "outputs": [
    {
     "name": "stdout",
     "output_type": "stream",
     "text": [
      "Length of vocabulary is 1000\n"
     ]
    }
   ],
   "source": [
    "print(f'Length of vocabulary is {len(vocab)}')"
   ]
  },
  {
   "cell_type": "markdown",
   "id": "clinical-possibility",
   "metadata": {},
   "source": [
    "### Analysing review length"
   ]
  },
  {
   "cell_type": "code",
   "execution_count": 11,
   "id": "judicial-boating",
   "metadata": {},
   "outputs": [
    {
     "data": {
      "image/png": "[encoded data removed]",
      "text/plain": [
       "<Figure size 640x480 with 1 Axes>"
      ]
     },
     "metadata": {},
     "output_type": "display_data"
    },
    {
     "data": {
      "text/plain": [
       "count    5000.000000\n",
       "mean       69.701000\n",
       "std        48.177678\n",
       "min         5.000000\n",
       "25%        39.000000\n",
       "50%        54.000000\n",
       "75%        85.000000\n",
       "max       457.000000\n",
       "dtype: float64"
      ]
     },
     "execution_count": 11,
     "metadata": {},
     "output_type": "execute_result"
    }
   ],
   "source": [
    "rev_len = [len(i) for i in x_train]\n",
    "pd.Series(rev_len).hist()\n",
    "plt.show()\n",
    "pd.Series(rev_len).describe()"
   ]
  },
  {
   "cell_type": "markdown",
   "id": "welsh-relative",
   "metadata": {},
   "source": [
    "### Padding"
   ]
  },
  {
   "cell_type": "markdown",
   "id": "consistent-baking",
   "metadata": {},
   "source": [
    "Now we will pad each of the sequence to max length "
   ]
  },
  {
   "cell_type": "code",
   "execution_count": 12,
   "id": "personal-string",
   "metadata": {},
   "outputs": [],
   "source": [
    "def padding_(sentences, seq_len):\n",
    "    features = np.zeros((len(sentences), seq_len),dtype=int)\n",
    "    for ii, review in enumerate(sentences):\n",
    "        if len(review) != 0:\n",
    "            features[ii, -len(review):] = np.array(review)[:seq_len]\n",
    "    return features"
   ]
  },
  {
   "cell_type": "code",
   "execution_count": 13,
   "id": "amber-nashville",
   "metadata": {},
   "outputs": [
    {
     "name": "stdout",
     "output_type": "stream",
     "text": [
      "(5000, 500)\n",
      "(5000, 500)\n"
     ]
    }
   ],
   "source": [
    "#we have very less number of reviews with length > 500.\n",
    "#So we will consideronly those below it.\n",
    "x_train_pad = padding_(x_train,500)\n",
    "x_test_pad = padding_(x_test,500)\n",
    "print(x_train_pad.shape)\n",
    "print(x_test_pad.shape)"
   ]
  },
  {
   "cell_type": "code",
   "execution_count": 14,
   "id": "later-settlement",
   "metadata": {},
   "outputs": [],
   "source": [
    "# create Tensor datasets\n",
    "train_data = TensorDataset(torch.from_numpy(x_train_pad), torch.from_numpy(y_train))\n",
    "valid_data = TensorDataset(torch.from_numpy(x_test_pad), torch.from_numpy(y_test))\n",
    "\n",
    "# dataloaders\n",
    "batch_size = 50\n",
    "\n",
    "# make sure to SHUFFLE your data\n",
    "train_loader = DataLoader(train_data, shuffle=True, batch_size=batch_size)\n",
    "valid_loader = DataLoader(valid_data, shuffle=True, batch_size=batch_size)"
   ]
  },
  {
   "cell_type": "code",
   "execution_count": 15,
   "id": "neither-rally",
   "metadata": {},
   "outputs": [
    {
     "name": "stdout",
     "output_type": "stream",
     "text": [
      "Sample input size:  torch.Size([50, 500])\n",
      "Sample input: \n",
      " tensor([[  0,   0,   0,  ..., 905,   6,  58],\n",
      "        [  0,   0,   0,  ..., 546, 319,  32],\n",
      "        [  0,   0,   0,  ..., 307, 600, 926],\n",
      "        ...,\n",
      "        [  0,   0,   0,  ..., 174, 657,  70],\n",
      "        [  0,   0,   0,  ...,  61, 336, 524],\n",
      "        [  0,   0,   0,  ...,  84, 616,   2]])\n",
      "Sample input: \n",
      " tensor([0, 0, 1, 1, 0, 1, 0, 0, 1, 0, 0, 0, 0, 1, 1, 1, 1, 0, 0, 1, 0, 0, 1, 0,\n",
      "        0, 0, 0, 0, 1, 1, 0, 1, 1, 1, 1, 1, 0, 1, 0, 1, 0, 0, 1, 0, 1, 1, 0, 1,\n",
      "        0, 0])\n"
     ]
    }
   ],
   "source": [
    "# obtain one batch of training data\n",
    "dataiter = iter(train_loader)\n",
    "sample_x, sample_y = dataiter.next()\n",
    "\n",
    "print('Sample input size: ', sample_x.size()) # batch_size, seq_length\n",
    "print('Sample input: \\n', sample_x)\n",
    "print('Sample input: \\n', sample_y)"
   ]
  },
  {
   "cell_type": "code",
   "execution_count": 16,
   "id": "absolute-sussex",
   "metadata": {},
   "outputs": [
    {
     "data": {
      "text/plain": [
       "100"
      ]
     },
     "execution_count": 16,
     "metadata": {},
     "output_type": "execute_result"
    }
   ],
   "source": [
    "len(valid_loader)"
   ]
  },
  {
   "cell_type": "markdown",
   "id": "portable-silence",
   "metadata": {},
   "source": [
    "### Model"
   ]
  },
  {
   "cell_type": "markdown",
   "id": "modular-option",
   "metadata": {},
   "source": [
    "We need to add an embedding layer because there are less words in our vocabulary. It is massively inefficient to one-hot encode that many classes. So, instead of one-hot encoding, we can have an embedding layer and use that layer as a lookup table. You could train an embedding layer using Word2Vec, then load it here. But, it's fine to just make a new layer, using it for only dimensionality reduction, and let the network learn the weights."
   ]
  },
  {
   "cell_type": "code",
   "execution_count": 17,
   "id": "binding-converter",
   "metadata": {},
   "outputs": [],
   "source": [
    "class SentimentRNN(nn.Module):\n",
    "    def __init__(self,no_layers,vocab_size,hidden_dim,hidden_dim2,embedding_dim,alpha,drop_prob=0.5):\n",
    "        super(SentimentRNN,self).__init__()\n",
    " \n",
    "        self.output_dim = output_dim\n",
    "        self.hidden_dim = hidden_dim\n",
    "        self.hidden_dim2 = hidden_dim2\n",
    " \n",
    "        self.no_layers = no_layers\n",
    "        self.vocab_size = vocab_size\n",
    "        self.alpha = alpha\n",
    "    \n",
    "        # embedding and LSTM layers\n",
    "        self.embedding = nn.Embedding(vocab_size, embedding_dim)\n",
    "        \n",
    "        #lstm\n",
    "        self.lstm = nn.LSTM(input_size=embedding_dim,hidden_size=self.hidden_dim,\n",
    "                           num_layers=no_layers, batch_first=True)\n",
    "        \n",
    "        \n",
    "        # dropout layer\n",
    "        self.dropout = nn.Dropout(0.3)\n",
    "    \n",
    "        # linear and sigmoid layer\n",
    "#         self.fc = nn.Linear(self.hidden_dim, output_dim)\n",
    "        self.fc = nn.Sequential(\n",
    "            nn.Linear(self.hidden_dim, self.hidden_dim2),\n",
    "#             nn.GELU(),\n",
    "            nn.LeakyReLU(negative_slope = self.alpha),\n",
    "            nn.Linear(self.hidden_dim2, output_dim)\n",
    "        )\n",
    "        for m in self.modules():\n",
    "            if isinstance(m, nn.Linear):\n",
    "#                 n = m.kernel_size[0] * m.kernel_size[1] * m.out_channels\n",
    "#                 m.weight.data.normal_(0, math.sqrt(2. / n))\n",
    "#                 m.bias.data.zero_()\n",
    "                nn.init.constant_(m.bias, 0)\n",
    "                nn.init.normal_(m.weight, mean=0, std=np.sqrt(2./m.out_features))\n",
    "        self.sig = nn.Sigmoid()\n",
    "        \n",
    "    def forward(self,x,hidden):\n",
    "        batch_size = x.size(0)\n",
    "        # embeddings and lstm_out\n",
    "        embeds = self.embedding(x)  # shape: B x S x Feature   since batch = True\n",
    "        #print(embeds.shape)  #[50, 500, 1000]\n",
    "        lstm_out, hidden = self.lstm(embeds, hidden)\n",
    "        \n",
    "        lstm_out = lstm_out.contiguous().view(-1, self.hidden_dim) \n",
    "        \n",
    "        # dropout and fully connected layer\n",
    "        out = self.dropout(lstm_out)\n",
    "        out = self.fc(out)/np.sqrt(self.alpha*self.alpha+1)\n",
    "        \n",
    "#         # sigmoid function\n",
    "#         sig_out = self.sig(out)\n",
    "        \n",
    "#         # reshape to be batch_size first\n",
    "#         sig_out = sig_out.view(batch_size, -1)\n",
    "        out = out.view(batch_size, -1)\n",
    "\n",
    "#         sig_out = sig_out[:, -1] # get last batch of labels\n",
    "        out = out[:, -1] # get last batch of labels\n",
    "        \n",
    "        # return last sigmoid output and hidden state\n",
    "        return out, hidden\n",
    "        \n",
    "        \n",
    "        \n",
    "    def init_hidden(self, batch_size):\n",
    "        ''' Initializes hidden state '''\n",
    "        # Create two new tensors with sizes n_layers x batch_size x hidden_dim,\n",
    "        # initialized to zero, for hidden state and cell state of LSTM\n",
    "        h0 = torch.zeros((self.no_layers,batch_size,self.hidden_dim)).to(device)\n",
    "        c0 = torch.zeros((self.no_layers,batch_size,self.hidden_dim)).to(device)\n",
    "        hidden = (h0,c0)\n",
    "        return hidden\n",
    "\n",
    "              "
   ]
  },
  {
   "cell_type": "code",
   "execution_count": 18,
   "id": "inappropriate-positive",
   "metadata": {},
   "outputs": [],
   "source": [
    "no_layers = 2\n",
    "vocab_size = len(vocab) + 1 #extra 1 for padding\n",
    "embedding_dim = 64\n",
    "output_dim = 1\n",
    "hidden_dim = 256\n",
    "hidden_dim2 = 4096\n",
    "\n"
   ]
  },
  {
   "cell_type": "markdown",
   "id": "cordless-halloween",
   "metadata": {},
   "source": [
    "### Training"
   ]
  },
  {
   "cell_type": "code",
   "execution_count": null,
   "id": "disturbed-reasoning",
   "metadata": {},
   "outputs": [],
   "source": [
    "clip = 5\n",
    "epochs = 300 \n",
    "valid_loss_min = np.Inf\n",
    "# train for some number of epochs\n",
    "epoch_tr_loss,epoch_vl_loss = [],[]\n",
    "epoch_tr_acc,epoch_vl_acc = [],[]\n",
    "train_losses_dict = dict()\n",
    "val_losses_dict = dict()\n",
    "train_acc_dict = dict()\n",
    "val_acc_dict = dict()\n",
    "alphalist = [-2,-1,0,0.01]\n",
    "\n",
    "torch.manual_seed(expid)\n",
    "\n",
    "# loss and optimization functions\n",
    "lr=1e-5\n",
    "\n",
    "criterion = nn.BCEWithLogitsLoss()\n",
    "\n",
    "# function to predict accuracy\n",
    "def acc(pred,label):\n",
    "    m = nn.Sigmoid()\n",
    "    pred = m(pred)\n",
    "    pred = torch.round(pred.squeeze())\n",
    "    return torch.sum(pred == label.squeeze()).item()\n",
    "\n",
    "# start training for different leaky relu alphas\n",
    "for alpha in alphalist:\n",
    "    model = SentimentRNN(no_layers,vocab_size,hidden_dim,hidden_dim2,embedding_dim,alpha = alpha,drop_prob=0.5)\n",
    "    \n",
    "    #moving to gpu\n",
    "    model.to(device)\n",
    "\n",
    "    print(model)\n",
    "    optimizer = torch.optim.Adam(model.parameters(), lr=lr)\n",
    "    epoch_tr_loss,epoch_vl_loss = [],[]\n",
    "    epoch_tr_acc,epoch_vl_acc = [],[]\n",
    "\n",
    "    for epoch in range(epochs):\n",
    "        print(epoch)\n",
    "        train_losses = []\n",
    "        train_acc = 0.0\n",
    "        model.train()\n",
    "        # initialize hidden state \n",
    "        h = model.init_hidden(batch_size)\n",
    "        for inputs, labels in train_loader:\n",
    "\n",
    "            inputs, labels = inputs.to(device), labels.to(device)   \n",
    "            # Creating new variables for the hidden state, otherwise\n",
    "            # we'd backprop through the entire training history\n",
    "#             h = tuple([each.data for each in h])\n",
    "            h = model.init_hidden(batch_size)\n",
    "            h = tuple([each.data for each in h])\n",
    "\n",
    "            model.zero_grad()\n",
    "            output,h = model(inputs,h)\n",
    "\n",
    "            # calculate the loss and perform backprop\n",
    "            loss = criterion(output.squeeze(), labels.float())\n",
    "            loss.backward()\n",
    "            train_losses.append(loss.item())\n",
    "            # calculating accuracy\n",
    "            accuracy = acc(output,labels)\n",
    "            train_acc += accuracy\n",
    "            #`clip_grad_norm` helps prevent the exploding gradient problem in RNNs / LSTMs.\n",
    "            nn.utils.clip_grad_norm_(model.lstm.parameters(), clip)\n",
    "            optimizer.step()\n",
    "\n",
    "\n",
    "        print(epoch)\n",
    "        val_h = model.init_hidden(batch_size)\n",
    "        val_losses = []\n",
    "        val_acc = 0.0\n",
    "        model.eval()\n",
    "        with torch.no_grad():\n",
    "            for inputs, labels in valid_loader:\n",
    "    #                 val_h = tuple([each.data for each in val_h])\n",
    "    #                 print(val_h)\n",
    "                    val_h = model.init_hidden(batch_size)\n",
    "                    val_h = tuple([each.data for each in val_h])\n",
    "\n",
    "                    inputs, labels = inputs.to(device), labels.to(device)\n",
    "\n",
    "                    output, val_h = model(inputs, val_h)\n",
    "                    print(output)\n",
    "                    print(labels)\n",
    "                    val_loss = criterion(output.squeeze(), labels.float())\n",
    "                    print(val_loss)\n",
    "\n",
    "                    val_losses.append(val_loss.item())\n",
    "\n",
    "                    accuracy = acc(output,labels)\n",
    "                    val_acc += accuracy\n",
    "        print(epoch)\n",
    "        print(val_losses)\n",
    "        epoch_train_loss = np.mean(train_losses)\n",
    "        epoch_val_loss = np.mean(val_losses)\n",
    "        epoch_train_acc = train_acc/len(train_loader.dataset)\n",
    "        epoch_val_acc = val_acc/len(valid_loader.dataset)\n",
    "        epoch_tr_loss.append(epoch_train_loss)\n",
    "        epoch_vl_loss.append(epoch_val_loss)\n",
    "        epoch_tr_acc.append(epoch_train_acc)\n",
    "        epoch_vl_acc.append(epoch_val_acc)\n",
    "        print(f'Epoch {epoch+1}') \n",
    "        print(f'train_loss : {epoch_train_loss} val_loss : {epoch_val_loss}')\n",
    "        print(f'train_accuracy : {epoch_train_acc*100} val_accuracy : {epoch_val_acc*100}')\n",
    "        if epoch_val_loss <= valid_loss_min:\n",
    "            torch.save(model.state_dict(), 'save_imdb/state_dict'+str(filenum).zfill(3)+'_'+str(expid).zfill(3)+'alpha_'+str(alpha)+'.pt')\n",
    "            print('Validation loss decreased ({:.6f} --> {:.6f}).  Saving model ...'.format(valid_loss_min,epoch_val_loss))\n",
    "            valid_loss_min = epoch_val_loss\n",
    "        print(25*'==')\n",
    "    train_losses_dict[alpha] = epoch_tr_loss\n",
    "    val_losses_dict[alpha] = epoch_vl_loss\n",
    "    train_acc_dict[alpha] = epoch_tr_acc\n",
    "    val_acc_dict[alpha] = epoch_vl_acc\n",
    "    torch.save(train_losses_dict, 'lstm_leaky_result_train_losses_imdb'+str(filenum).zfill(3)+'_'+str(expid).zfill(3)+'.pt')\n",
    "    torch.save(val_losses_dict, 'lstm_leaky_result_val_losses_imdb'+str(filenum).zfill(3)+'_'+str(expid).zfill(3)+'.pt')\n",
    "    torch.save(train_acc_dict, 'lstm_leaky_result_train_acc_imdb'+str(filenum).zfill(3)+'_'+str(expid).zfill(3)+'.pt')\n",
    "    torch.save(val_acc_dict, 'lstm_leaky_result_val_acc_imdb'+str(filenum).zfill(3)+'_'+str(expid).zfill(3)+'.pt')\n"
   ]
  }
 ],
 "metadata": {
  "kernelspec": {
   "display_name": "Python 3 (my_pytorch_env_1)",
   "language": "python",
   "name": "my_pytorch_env_1"
  },
  "language_info": {
   "codemirror_mode": {
    "name": "ipython",
    "version": 3
   },
   "file_extension": ".py",
   "mimetype": "text/x-python",
   "name": "python",
   "nbconvert_exporter": "python",
   "pygments_lexer": "ipython3",
   "version": "3.9.15"
  }
 },
 "nbformat": 4,
 "nbformat_minor": 5
}
